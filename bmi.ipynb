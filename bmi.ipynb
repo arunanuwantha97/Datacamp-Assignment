{
 "cells": [
  {
   "cell_type": "code",
   "execution_count": null,
   "metadata": {},
   "outputs": [],
   "source": [
    "\n",
    "#3. Body Mass Index calculator\n",
    "\n",
    "#find the body mass index\n",
    "def  BMI(mass, height):\n",
    "    return mass / (height ** 2)\n",
    "\n",
    "\n",
    "if __name__ == '__main__':\n",
    "    try:\n",
    "        #get the input from users\n",
    "        mass = float(input(\"Enter your mass(kg): \"))\n",
    "        height = float(input(\"Enter your height(m): \"))\n",
    "        \n",
    "        print(\"BMI : {}\".format(BMI(mass, height)))\n",
    "    \n",
    "    except:\n",
    "        print(\"Error: Please enter the number\")\n",
    "\n",
    "\n"
   ]
  }
 ],
 "metadata": {
  "kernelspec": {
   "display_name": "Python 3",
   "language": "python",
   "name": "python3"
  },
  "language_info": {
   "name": "python"
  }
 },
 "nbformat": 4,
 "nbformat_minor": 2
}
