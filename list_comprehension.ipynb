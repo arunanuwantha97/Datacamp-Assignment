{
  "nbformat": 4,
  "nbformat_minor": 0,
  "metadata": {
    "colab": {
      "name": "list_comprehension.ipynb",
      "provenance": []
    },
    "kernelspec": {
      "name": "python3",
      "display_name": "Python 3"
    },
    "language_info": {
      "name": "python"
    }
  },
  "cells": [
    {
      "cell_type": "code",
      "metadata": {
        "colab": {
          "base_uri": "https://localhost:8080/"
        },
        "id": "JpMAEBNjfDUQ",
        "outputId": "6c948eb2-96e9-4913-f8e4-d32277b791f2"
      },
      "source": [
        "squares = []\n",
        "for i in range(10):\n",
        "    squares.append(i * i)\n",
        "squares\n"
      ],
      "execution_count": 1,
      "outputs": [
        {
          "output_type": "execute_result",
          "data": {
            "text/plain": [
              "[0, 1, 4, 9, 16, 25, 36, 49, 64, 81]"
            ]
          },
          "metadata": {},
          "execution_count": 1
        }
      ]
    },
    {
      "cell_type": "code",
      "metadata": {
        "colab": {
          "base_uri": "https://localhost:8080/"
        },
        "id": "wWdhlOj1hi5n",
        "outputId": "65609c12-c30f-449b-e7aa-dd3e886f616f"
      },
      "source": [
        "txns = [1.09, 23.56, 57.84, 4.56, 6.78]\n",
        "TAX_RATE = .08\n",
        "def get_price_with_tax(txn):\n",
        "    return txn * (1 + TAX_RATE)\n",
        "final_prices = map(get_price_with_tax, txns)\n",
        "list(final_prices)"
      ],
      "execution_count": 2,
      "outputs": [
        {
          "output_type": "execute_result",
          "data": {
            "text/plain": [
              "[1.1772000000000002, 25.4448, 62.467200000000005, 4.9248, 7.322400000000001]"
            ]
          },
          "metadata": {},
          "execution_count": 2
        }
      ]
    },
    {
      "cell_type": "code",
      "metadata": {
        "colab": {
          "base_uri": "https://localhost:8080/"
        },
        "id": "9aHYOVlcN1Ig",
        "outputId": "37b0d9bb-7077-485b-bf9e-671a86e48a5b"
      },
      "source": [
        "squares = [i * i for i in range(10)]\n",
        "squares"
      ],
      "execution_count": 3,
      "outputs": [
        {
          "output_type": "execute_result",
          "data": {
            "text/plain": [
              "[0, 1, 4, 9, 16, 25, 36, 49, 64, 81]"
            ]
          },
          "metadata": {},
          "execution_count": 3
        }
      ]
    },
    {
      "cell_type": "code",
      "metadata": {
        "colab": {
          "base_uri": "https://localhost:8080/"
        },
        "id": "CwaigoolN-d9",
        "outputId": "e2dbd324-c52e-4eef-9e4b-d8c666676e1b"
      },
      "source": [
        "cities = ['Austin', 'Tacoma', 'Topeka', 'Sacramento', 'Charlotte']\n",
        "temps = {city: [0 for _ in range(7)] for city in cities}\n",
        "temps\n",
        "{\n",
        "    'Austin': [0, 0, 0, 0, 0, 0, 0],\n",
        "    'Tacoma': [0, 0, 0, 0, 0, 0, 0],\n",
        "    'Topeka': [0, 0, 0, 0, 0, 0, 0],\n",
        "    'Sacramento': [0, 0, 0, 0, 0, 0, 0],\n",
        "    'Charlotte': [0, 0, 0, 0, 0, 0, 0]\n",
        "}"
      ],
      "execution_count": 4,
      "outputs": [
        {
          "output_type": "execute_result",
          "data": {
            "text/plain": [
              "{'Austin': [0, 0, 0, 0, 0, 0, 0],\n",
              " 'Charlotte': [0, 0, 0, 0, 0, 0, 0],\n",
              " 'Sacramento': [0, 0, 0, 0, 0, 0, 0],\n",
              " 'Tacoma': [0, 0, 0, 0, 0, 0, 0],\n",
              " 'Topeka': [0, 0, 0, 0, 0, 0, 0]}"
            ]
          },
          "metadata": {},
          "execution_count": 4
        }
      ]
    },
    {
      "cell_type": "code",
      "metadata": {
        "id": "SSbOWX6_Q6ex"
      },
      "source": [
        ""
      ],
      "execution_count": null,
      "outputs": []
    }
  ]
}