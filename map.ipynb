{
  "nbformat": 4,
  "nbformat_minor": 0,
  "metadata": {
    "colab": {
      "name": "map.ipynb",
      "provenance": []
    },
    "kernelspec": {
      "name": "python3",
      "display_name": "Python 3"
    },
    "language_info": {
      "name": "python"
    }
  },
  "cells": [
    {
      "cell_type": "code",
      "metadata": {
        "colab": {
          "base_uri": "https://localhost:8080/"
        },
        "id": "ZLQ6woWvibcv",
        "outputId": "d787c679-4f5e-4941-8981-637ffefe2bfd"
      },
      "source": [
        "items = [1, 2, 3, 4, 5]\n",
        "squared = list(map(lambda x: x**2, items))\n",
        "print(squared)"
      ],
      "execution_count": 2,
      "outputs": [
        {
          "output_type": "stream",
          "name": "stdout",
          "text": [
            "[1, 4, 9, 16, 25]\n"
          ]
        }
      ]
    },
    {
      "cell_type": "code",
      "metadata": {
        "colab": {
          "base_uri": "https://localhost:8080/"
        },
        "id": "5GQ-_aEXiqYk",
        "outputId": "eaa42931-2044-4d5e-e920-818a5cefd75b"
      },
      "source": [
        "def multiply(x):\n",
        "    return (x*x)\n",
        "def add(x):\n",
        "    return (x+x)\n",
        "\n",
        "funcs = [multiply, add]\n",
        "for i in range(5):\n",
        "    value = list(map(lambda x: x(i), funcs))\n",
        "    print(value)\n",
        "\n",
        "# Output:\n",
        "# [0, 0]\n",
        "# [1, 2]\n",
        "# [4, 4]\n",
        "# [9, 6]\n",
        "# [16, 8]"
      ],
      "execution_count": 3,
      "outputs": [
        {
          "output_type": "stream",
          "name": "stdout",
          "text": [
            "[0, 0]\n",
            "[1, 2]\n",
            "[4, 4]\n",
            "[9, 6]\n",
            "[16, 8]\n"
          ]
        }
      ]
    },
    {
      "cell_type": "code",
      "metadata": {
        "id": "EVHxIxR3jgo5"
      },
      "source": [
        "def rotate_chr(c):\n",
        "    rot_by = 3\n",
        "    c = c.lower()\n",
        "    alphabet = \"abcdefghijklmnopqrstuvwxyz\"\n",
        "    # Keep punctuation and whitespace\n",
        "    if c not in alphabet:\n",
        "        return c\n",
        "    rotated_pos = ord(c) + rot_by\n",
        "    # If the rotation is inside the alphabet\n",
        "    if rotated_pos <= ord(alphabet[-1]):\n",
        "        return chr(rotated_pos)\n",
        "    # If the rotation goes beyond the alphabet\n",
        "    return chr(rotated_pos - len(alphabet))"
      ],
      "execution_count": 4,
      "outputs": []
    },
    {
      "cell_type": "code",
      "metadata": {
        "colab": {
          "base_uri": "https://localhost:8080/"
        },
        "id": "5Vy8vtu5kTbB",
        "outputId": "c33774b2-6fcf-4f0b-d94d-6b415771f6c0"
      },
      "source": [
        "def powers(x):\n",
        "    return x ** 2, x ** 3\n",
        "\n",
        "\n",
        "numbers = [1, 2, 3, 4]\n",
        "\n",
        "list(map(powers, numbers))"
      ],
      "execution_count": 5,
      "outputs": [
        {
          "output_type": "execute_result",
          "data": {
            "text/plain": [
              "[(1, 1), (4, 8), (9, 27), (16, 64)]"
            ]
          },
          "metadata": {},
          "execution_count": 5
        }
      ]
    },
    {
      "cell_type": "code",
      "metadata": {
        "id": "HNkjpdLzqV8k"
      },
      "source": [
        ""
      ],
      "execution_count": null,
      "outputs": []
    }
  ]
}